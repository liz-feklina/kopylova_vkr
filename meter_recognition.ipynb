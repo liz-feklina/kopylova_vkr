{
  "nbformat": 4,
  "nbformat_minor": 0,
  "metadata": {
    "colab": {
      "provenance": [],
      "toc_visible": true,
      "collapsed_sections": [
        "ytIVGMfGy35k"
      ]
    },
    "kernelspec": {
      "name": "python3",
      "display_name": "Python 3"
    },
    "language_info": {
      "name": "python"
    }
  },
  "cells": [
    {
      "cell_type": "code",
      "source": [
        "from google.colab import drive\n",
        "drive.mount('/content/drive')"
      ],
      "metadata": {
        "colab": {
          "base_uri": "https://localhost:8080/"
        },
        "id": "SIpspBuvHGbj",
        "outputId": "f7f254f8-4afc-4b75-bdd6-44f8926e812e"
      },
      "execution_count": null,
      "outputs": [
        {
          "output_type": "stream",
          "name": "stdout",
          "text": [
            "Mounted at /content/drive\n"
          ]
        }
      ]
    },
    {
      "cell_type": "code",
      "execution_count": null,
      "metadata": {
        "id": "Nf9ggDWm3jn7"
      },
      "outputs": [],
      "source": [
        "!pip install ru-accent-poet\n",
        "!pip install pandas\n",
        "\n",
        "from ru_accent_poet import accent_line\n",
        "import pandas\n",
        "from tqdm import tqdm\n",
        "tqdm.pandas()\n",
        "import re\n",
        "\n",
        "!pip install pymystem3\n",
        "from pymystem3 import Mystem\n",
        "ms = Mystem()\n",
        "\n",
        "from sklearn.model_selection import train_test_split"
      ]
    },
    {
      "cell_type": "code",
      "source": [
        "accent_line('Это инструмент для разметки ударений')\n",
        "#Э'то инструме'нт для разме'тки ударе'ний"
      ],
      "metadata": {
        "colab": {
          "base_uri": "https://localhost:8080/",
          "height": 35
        },
        "id": "pcPqaqwpx5R9",
        "outputId": "2be5ab30-5603-4a23-d08b-3ec016b5d060"
      },
      "execution_count": null,
      "outputs": [
        {
          "output_type": "execute_result",
          "data": {
            "text/plain": [
              "\"Э'то инструме'нт для разме'тки ударе'ний\""
            ],
            "application/vnd.google.colaboratory.intrinsic+json": {
              "type": "string"
            }
          },
          "metadata": {},
          "execution_count": 3
        }
      ]
    },
    {
      "cell_type": "markdown",
      "source": [
        "## Алгоритм определения размера"
      ],
      "metadata": {
        "id": "QzXBB6l-I1uZ"
      }
    },
    {
      "cell_type": "code",
      "source": [
        "verse_data = pandas.read_csv('/content/drive/MyDrive/diplom/syllab-tonic-lines.tsv',sep='\\t', quotechar='&')"
      ],
      "metadata": {
        "id": "GrCD9q0uFHCz"
      },
      "execution_count": null,
      "outputs": []
    },
    {
      "cell_type": "code",
      "source": [
        "df = pandas.read_csv('/content/drive/MyDrive/diplom/df_alg.csv', index_col=0, quotechar='&')"
      ],
      "metadata": {
        "id": "sjQxOVSaZE1c"
      },
      "execution_count": null,
      "outputs": []
    },
    {
      "cell_type": "code",
      "source": [
        "sum_data = pandas.read_csv('/content/drive/MyDrive/diplom/sum_data.csv', index_col=0, quotechar='&')"
      ],
      "metadata": {
        "id": "5CfuqdEBo4_h"
      },
      "execution_count": null,
      "outputs": []
    },
    {
      "cell_type": "code",
      "source": [
        "train, test = train_test_split(df, test_size=1000, random_state=156)"
      ],
      "metadata": {
        "id": "DpVbsPrTRF6U"
      },
      "execution_count": null,
      "outputs": []
    },
    {
      "cell_type": "code",
      "source": [
        "choree = '10'*100\n",
        "iamb = '01'*100\n",
        "dactyl = '100'*100\n",
        "amphibrach = '010'*100\n",
        "anapaest = '001'*100\n",
        "\n",
        "meters = [choree, iamb, dactyl, amphibrach, anapaest]\n",
        "#meters_name = ['choree', 'iamb', 'dactyl', 'amphibrach', 'anapaest']\n",
        "meters_name = ['Х', 'Я', 'Д', 'Аф', 'Ан']"
      ],
      "metadata": {
        "id": "7laOXy6k4qim"
      },
      "execution_count": null,
      "outputs": []
    },
    {
      "cell_type": "code",
      "source": [
        "s = 'о̀'\n",
        "ict = s[1]\n",
        "print(ict)"
      ],
      "metadata": {
        "colab": {
          "base_uri": "https://localhost:8080/"
        },
        "id": "EQwOAJTTKDeG",
        "outputId": "663340da-9ede-4a17-f5ec-56abee0e3ee2"
      },
      "execution_count": null,
      "outputs": [
        {
          "output_type": "stream",
          "name": "stdout",
          "text": [
            "̀\n"
          ]
        }
      ]
    },
    {
      "cell_type": "code",
      "source": [
        "def verse_scheme_base(line):\n",
        "    line = accent_line(line)\n",
        "    line = re.sub(r'[аяоёуюыиэеАЯОЁУЮЫИЭЕ]\\'', '1', line)\n",
        "    # заменяем гласная+' на 1\n",
        "    line = re.sub(r'[аяоёуюыиэеАЯОЁУЮЫИЭЕ]', '0', line)\n",
        "    # заменяем оставшиеся гласные на нули\n",
        "    line = re.sub(r'[^01]', '', line)\n",
        "    # стираем всё кроме цифр\n",
        "    #print(line)\n",
        "    return line"
      ],
      "metadata": {
        "id": "lopn5qDayDIE"
      },
      "execution_count": null,
      "outputs": []
    },
    {
      "cell_type": "code",
      "source": [
        "test_lines_num = test['line_id'].unique()"
      ],
      "metadata": {
        "id": "TkiSXZkTae2f"
      },
      "execution_count": null,
      "outputs": []
    },
    {
      "cell_type": "code",
      "source": [
        "def meter_match(line, ans, function_name='verse_scheme_base', a1=1, a2=1):\n",
        "    line = re.sub(ict, '', line)\n",
        "    if function_name == 'verse_scheme_base':\n",
        "        rhythm = verse_scheme_base(line)\n",
        "    if function_name == 'verse_scheme_mono':\n",
        "        rhythm = verse_scheme_mono(line)  \n",
        "    scores = []\n",
        "    for meter in meters:\n",
        "        s = 0\n",
        "        for i in range(len(rhythm)):\n",
        "            if rhythm[i] == '1' and meter[i] == '0':\n",
        "                s += a1\n",
        "            elif rhythm[i] == '0' and meter[i] == '1':\n",
        "                s += a2\n",
        "        scores.append(s)\n",
        "    val, idx = min((val, idx) for (idx, val) in enumerate(scores))\n",
        "    return ans.startswith(meters_name[idx])"
      ],
      "metadata": {
        "id": "w7aIYRZhNZnB"
      },
      "execution_count": null,
      "outputs": []
    },
    {
      "cell_type": "code",
      "source": [
        "lines_test = pandas.DataFrame(test_lines_num, columns=['line_id'])"
      ],
      "metadata": {
        "id": "ZN0XIU2GQt3x"
      },
      "execution_count": null,
      "outputs": []
    },
    {
      "cell_type": "code",
      "source": [
        "lines_test['line'], lines_test['meter'] = \\\n",
        "    zip(*lines_test.progress_apply(lambda x: (verse_data.loc[x.line_id, 'line'], verse_data.loc[x.line_id, 'clausula']), axis=1))"
      ],
      "metadata": {
        "colab": {
          "base_uri": "https://localhost:8080/"
        },
        "id": "yr7EwSYEdW9e",
        "outputId": "f0916216-eca6-4326-d9b8-85ad416f226f"
      },
      "execution_count": null,
      "outputs": [
        {
          "output_type": "stream",
          "name": "stderr",
          "text": [
            "100%|██████████| 999/999 [00:00<00:00, 14681.33it/s]\n"
          ]
        }
      ]
    },
    {
      "cell_type": "code",
      "source": [
        "lines_test"
      ],
      "metadata": {
        "colab": {
          "base_uri": "https://localhost:8080/",
          "height": 423
        },
        "id": "BvZNv-QNeEs3",
        "outputId": "ca95c52d-5e70-48f2-ec0d-67e05561cc23"
      },
      "execution_count": null,
      "outputs": [
        {
          "output_type": "execute_result",
          "data": {
            "text/plain": [
              "     line_id                                          line meter\n",
              "0    1189335    За то̀, что ду̀х твой твѐрд, как ка̀мень,   Я4ж\n",
              "1    1315753              Руна̀ золото̀го и го̀лого тѐла.  Аф4ж\n",
              "2    1536129              Шлѝ на дно̀, на дно̀, на дно̀..   Х4м\n",
              "3     161091                          Вѝдел со̀н Мушкѐт:   Х3м\n",
              "4    1516377                             там, в партѐре!»  Ан1ж\n",
              "..       ...                                           ...   ...\n",
              "994    31499                   Что̀ зима̀ ведѐт к веснѐ?   Х4м\n",
              "995  2364502      Напра̀сно! ты̀ была̀ в объя̀тия̀х моѝх,   Я6м\n",
              "996   444457                        Типѝчный бы̀л лиха̀ч.   Я3м\n",
              "997   329978         Он смо̀трит в по̀желтѐвшиѐ очкѝ...   Я5м\n",
              "998   176067  И сказа̀ла она̀ в той трущо̀бе без тро̀п, --  Ан4м\n",
              "\n",
              "[999 rows x 3 columns]"
            ],
            "text/html": [
              "\n",
              "  <div id=\"df-9100d63f-5464-4f48-aa10-e2e9353ee1a7\">\n",
              "    <div class=\"colab-df-container\">\n",
              "      <div>\n",
              "<style scoped>\n",
              "    .dataframe tbody tr th:only-of-type {\n",
              "        vertical-align: middle;\n",
              "    }\n",
              "\n",
              "    .dataframe tbody tr th {\n",
              "        vertical-align: top;\n",
              "    }\n",
              "\n",
              "    .dataframe thead th {\n",
              "        text-align: right;\n",
              "    }\n",
              "</style>\n",
              "<table border=\"1\" class=\"dataframe\">\n",
              "  <thead>\n",
              "    <tr style=\"text-align: right;\">\n",
              "      <th></th>\n",
              "      <th>line_id</th>\n",
              "      <th>line</th>\n",
              "      <th>meter</th>\n",
              "    </tr>\n",
              "  </thead>\n",
              "  <tbody>\n",
              "    <tr>\n",
              "      <th>0</th>\n",
              "      <td>1189335</td>\n",
              "      <td>За то̀, что ду̀х твой твѐрд, как ка̀мень,</td>\n",
              "      <td>Я4ж</td>\n",
              "    </tr>\n",
              "    <tr>\n",
              "      <th>1</th>\n",
              "      <td>1315753</td>\n",
              "      <td>Руна̀ золото̀го и го̀лого тѐла.</td>\n",
              "      <td>Аф4ж</td>\n",
              "    </tr>\n",
              "    <tr>\n",
              "      <th>2</th>\n",
              "      <td>1536129</td>\n",
              "      <td>Шлѝ на дно̀, на дно̀, на дно̀..</td>\n",
              "      <td>Х4м</td>\n",
              "    </tr>\n",
              "    <tr>\n",
              "      <th>3</th>\n",
              "      <td>161091</td>\n",
              "      <td>Вѝдел со̀н Мушкѐт:</td>\n",
              "      <td>Х3м</td>\n",
              "    </tr>\n",
              "    <tr>\n",
              "      <th>4</th>\n",
              "      <td>1516377</td>\n",
              "      <td>там, в партѐре!»</td>\n",
              "      <td>Ан1ж</td>\n",
              "    </tr>\n",
              "    <tr>\n",
              "      <th>...</th>\n",
              "      <td>...</td>\n",
              "      <td>...</td>\n",
              "      <td>...</td>\n",
              "    </tr>\n",
              "    <tr>\n",
              "      <th>994</th>\n",
              "      <td>31499</td>\n",
              "      <td>Что̀ зима̀ ведѐт к веснѐ?</td>\n",
              "      <td>Х4м</td>\n",
              "    </tr>\n",
              "    <tr>\n",
              "      <th>995</th>\n",
              "      <td>2364502</td>\n",
              "      <td>Напра̀сно! ты̀ была̀ в объя̀тия̀х моѝх,</td>\n",
              "      <td>Я6м</td>\n",
              "    </tr>\n",
              "    <tr>\n",
              "      <th>996</th>\n",
              "      <td>444457</td>\n",
              "      <td>Типѝчный бы̀л лиха̀ч.</td>\n",
              "      <td>Я3м</td>\n",
              "    </tr>\n",
              "    <tr>\n",
              "      <th>997</th>\n",
              "      <td>329978</td>\n",
              "      <td>Он смо̀трит в по̀желтѐвшиѐ очкѝ...</td>\n",
              "      <td>Я5м</td>\n",
              "    </tr>\n",
              "    <tr>\n",
              "      <th>998</th>\n",
              "      <td>176067</td>\n",
              "      <td>И сказа̀ла она̀ в той трущо̀бе без тро̀п, --</td>\n",
              "      <td>Ан4м</td>\n",
              "    </tr>\n",
              "  </tbody>\n",
              "</table>\n",
              "<p>999 rows × 3 columns</p>\n",
              "</div>\n",
              "      <button class=\"colab-df-convert\" onclick=\"convertToInteractive('df-9100d63f-5464-4f48-aa10-e2e9353ee1a7')\"\n",
              "              title=\"Convert this dataframe to an interactive table.\"\n",
              "              style=\"display:none;\">\n",
              "        \n",
              "  <svg xmlns=\"http://www.w3.org/2000/svg\" height=\"24px\"viewBox=\"0 0 24 24\"\n",
              "       width=\"24px\">\n",
              "    <path d=\"M0 0h24v24H0V0z\" fill=\"none\"/>\n",
              "    <path d=\"M18.56 5.44l.94 2.06.94-2.06 2.06-.94-2.06-.94-.94-2.06-.94 2.06-2.06.94zm-11 1L8.5 8.5l.94-2.06 2.06-.94-2.06-.94L8.5 2.5l-.94 2.06-2.06.94zm10 10l.94 2.06.94-2.06 2.06-.94-2.06-.94-.94-2.06-.94 2.06-2.06.94z\"/><path d=\"M17.41 7.96l-1.37-1.37c-.4-.4-.92-.59-1.43-.59-.52 0-1.04.2-1.43.59L10.3 9.45l-7.72 7.72c-.78.78-.78 2.05 0 2.83L4 21.41c.39.39.9.59 1.41.59.51 0 1.02-.2 1.41-.59l7.78-7.78 2.81-2.81c.8-.78.8-2.07 0-2.86zM5.41 20L4 18.59l7.72-7.72 1.47 1.35L5.41 20z\"/>\n",
              "  </svg>\n",
              "      </button>\n",
              "      \n",
              "  <style>\n",
              "    .colab-df-container {\n",
              "      display:flex;\n",
              "      flex-wrap:wrap;\n",
              "      gap: 12px;\n",
              "    }\n",
              "\n",
              "    .colab-df-convert {\n",
              "      background-color: #E8F0FE;\n",
              "      border: none;\n",
              "      border-radius: 50%;\n",
              "      cursor: pointer;\n",
              "      display: none;\n",
              "      fill: #1967D2;\n",
              "      height: 32px;\n",
              "      padding: 0 0 0 0;\n",
              "      width: 32px;\n",
              "    }\n",
              "\n",
              "    .colab-df-convert:hover {\n",
              "      background-color: #E2EBFA;\n",
              "      box-shadow: 0px 1px 2px rgba(60, 64, 67, 0.3), 0px 1px 3px 1px rgba(60, 64, 67, 0.15);\n",
              "      fill: #174EA6;\n",
              "    }\n",
              "\n",
              "    [theme=dark] .colab-df-convert {\n",
              "      background-color: #3B4455;\n",
              "      fill: #D2E3FC;\n",
              "    }\n",
              "\n",
              "    [theme=dark] .colab-df-convert:hover {\n",
              "      background-color: #434B5C;\n",
              "      box-shadow: 0px 1px 3px 1px rgba(0, 0, 0, 0.15);\n",
              "      filter: drop-shadow(0px 1px 2px rgba(0, 0, 0, 0.3));\n",
              "      fill: #FFFFFF;\n",
              "    }\n",
              "  </style>\n",
              "\n",
              "      <script>\n",
              "        const buttonEl =\n",
              "          document.querySelector('#df-9100d63f-5464-4f48-aa10-e2e9353ee1a7 button.colab-df-convert');\n",
              "        buttonEl.style.display =\n",
              "          google.colab.kernel.accessAllowed ? 'block' : 'none';\n",
              "\n",
              "        async function convertToInteractive(key) {\n",
              "          const element = document.querySelector('#df-9100d63f-5464-4f48-aa10-e2e9353ee1a7');\n",
              "          const dataTable =\n",
              "            await google.colab.kernel.invokeFunction('convertToInteractive',\n",
              "                                                     [key], {});\n",
              "          if (!dataTable) return;\n",
              "\n",
              "          const docLinkHtml = 'Like what you see? Visit the ' +\n",
              "            '<a target=\"_blank\" href=https://colab.research.google.com/notebooks/data_table.ipynb>data table notebook</a>'\n",
              "            + ' to learn more about interactive tables.';\n",
              "          element.innerHTML = '';\n",
              "          dataTable['output_type'] = 'display_data';\n",
              "          await google.colab.output.renderOutput(dataTable, element);\n",
              "          const docLink = document.createElement('div');\n",
              "          docLink.innerHTML = docLinkHtml;\n",
              "          element.appendChild(docLink);\n",
              "        }\n",
              "      </script>\n",
              "    </div>\n",
              "  </div>\n",
              "  "
            ]
          },
          "metadata": {},
          "execution_count": 41
        }
      ]
    },
    {
      "cell_type": "code",
      "source": [
        "lines_test['meter_match'] = lines_test.progress_apply(lambda x: meter_match(x.line, x.meter), axis=1)"
      ],
      "metadata": {
        "colab": {
          "base_uri": "https://localhost:8080/"
        },
        "id": "_TEb4v45dA76",
        "outputId": "e2c2c1c5-1bf5-4f87-f228-337dec07c3be"
      },
      "execution_count": null,
      "outputs": [
        {
          "output_type": "stream",
          "name": "stderr",
          "text": [
            "100%|██████████| 999/999 [03:40<00:00,  4.53it/s]\n"
          ]
        }
      ]
    },
    {
      "cell_type": "code",
      "source": [
        "print(lines_test.groupby(by=['meter_match'])['meter_match'].count())"
      ],
      "metadata": {
        "colab": {
          "base_uri": "https://localhost:8080/"
        },
        "id": "A8a_RWF9ypJn",
        "outputId": "d31f65a9-8ea7-4143-c551-a6aa62ce0628"
      },
      "execution_count": null,
      "outputs": [
        {
          "output_type": "stream",
          "name": "stdout",
          "text": [
            "meter_match\n",
            "False    202\n",
            "True     797\n",
            "Name: meter_match, dtype: int64\n"
          ]
        }
      ]
    },
    {
      "cell_type": "code",
      "source": [
        "round(797/(797 + 202), 2)"
      ],
      "metadata": {
        "colab": {
          "base_uri": "https://localhost:8080/"
        },
        "id": "bJL3TWfGrlvD",
        "outputId": "f4619c57-c641-4ea5-f85a-eff0191c84f5"
      },
      "execution_count": null,
      "outputs": [
        {
          "output_type": "execute_result",
          "data": {
            "text/plain": [
              "0.8"
            ]
          },
          "metadata": {},
          "execution_count": 44
        }
      ]
    },
    {
      "cell_type": "markdown",
      "source": [
        "вероятность без моносиллабов - 0.8"
      ],
      "metadata": {
        "id": "MIgoIxXvVQHB"
      }
    },
    {
      "cell_type": "code",
      "source": [
        "vowels = list('аяоёуюыиэеАЯОЁУЮЫИЭЕ')\n",
        "\n",
        "def get_syll_type(word):\n",
        "    if word[-1] in vowels:\n",
        "        return 'open'\n",
        "    else:\n",
        "        return 'closed'\n",
        "\n",
        "def count_vowels(word):\n",
        "    s = 0\n",
        "    global vowels\n",
        "    for letter in word:\n",
        "        if letter in vowels:\n",
        "            s += 1\n",
        "    return s\n",
        "\n",
        "def count_syll(words, position=-1):\n",
        "    line_segment = ''.join([word['text'] for word in words[:position]])\n",
        "    return count_vowels(line_segment)\n",
        "\n",
        "def get_syll_onset(word):\n",
        "    if word[0] in vowels:\n",
        "        return 'open'\n",
        "    else:\n",
        "        return 'closed'"
      ],
      "metadata": {
        "id": "rRWrBL05geyF"
      },
      "execution_count": null,
      "outputs": []
    },
    {
      "cell_type": "code",
      "source": [
        "def mystem_pos(word):\n",
        "    if 'analysis' in word and len(word['analysis']) != 0:\n",
        "        return word['analysis'][0]['gr'].split('=')[0].split(',')[0]\n",
        "    else:\n",
        "        return 'NA'"
      ],
      "metadata": {
        "id": "a2eLUfQ4gytH"
      },
      "execution_count": null,
      "outputs": []
    },
    {
      "cell_type": "code",
      "source": [
        "def neigh_data(words, position):\n",
        "\n",
        "    if position > 1:\n",
        "        left = words[position - 2]['text']\n",
        "        left_neigh = (count_vowels(left) == 1)\n",
        "        left_syll = get_syll_type(left)\n",
        "    else:\n",
        "        left_neigh = False\n",
        "        left_syll = None\n",
        "    \n",
        "    try:\n",
        "        right = words[position + 2]['text']\n",
        "        right_neigh = (count_vowels(right) == 1)\n",
        "        right_onset = get_syll_onset(right)\n",
        "    except IndexError:\n",
        "        right_neigh = False\n",
        "        right_onset = None\n",
        "\n",
        "    return left_neigh, left_syll, right_onset"
      ],
      "metadata": {
        "id": "ifM3mxhLh2Ff"
      },
      "execution_count": null,
      "outputs": []
    },
    {
      "cell_type": "code",
      "source": [
        "def is_ict(POS_ms, left_syll, syll_onset, syll_type, right_onset, left_neigh, last_syll, second_last_syll):\n",
        "    if last_syll == True:\n",
        "        ict_prob = 0.95\n",
        "    elif second_last_syll == True:\n",
        "        ict_prob = 0.07\n",
        "    else:\n",
        "        res_df = sum_data[(sum_data['POS_ms'] == POS_ms) &\n",
        "                          (sum_data['left_syll'] == left_syll) &\n",
        "                          (sum_data['syll_onset'] == syll_onset) &\n",
        "                          (sum_data['syll_type'] == syll_type) &\n",
        "                          (sum_data['right_onset'] == right_onset) &\n",
        "                          (sum_data['left_neigh'] == left_neigh)]\n",
        "        if len(res_df) == 0:\n",
        "            return 0.5\n",
        "        elif len(res_df) == 1:\n",
        "            if res_df['ict'].values[0] == True:\n",
        "                return 1.0\n",
        "            else:\n",
        "                return 0.0\n",
        "\n",
        "        ict_f, ict_t = res_df['word'].values\n",
        "        ict_prob = round(ict_t/(ict_t + ict_f), 2)\n",
        "    \n",
        "    return ict_prob"
      ],
      "metadata": {
        "id": "1q_1on_jgLaY"
      },
      "execution_count": null,
      "outputs": []
    },
    {
      "cell_type": "code",
      "source": [
        "ms = Mystem()"
      ],
      "metadata": {
        "id": "L-nY2gKOjBn2"
      },
      "execution_count": null,
      "outputs": []
    },
    {
      "cell_type": "code",
      "source": [
        "def verse_scheme_mono(line):\n",
        "    # находим все односложные слова и расставляем там икты\n",
        "    \n",
        "    mono_ict_num = []\n",
        "    words = ms.analyze(line)\n",
        "            \n",
        "    for i in range(len(words)):\n",
        "        word_data = words[i]\n",
        "        if count_vowels(word_data['text']) == 1:\n",
        "\n",
        "            word = word_data['text'].lower()\n",
        "            POS_ms = mystem_pos(word_data)\n",
        "\n",
        "            syll_onset = get_syll_onset(word)\n",
        "            syll_type = get_syll_type(word)\n",
        "            left_neigh, left_syll, right_onset = neigh_data(words, i)\n",
        "            \n",
        "            syll_num = count_syll(words, i)\n",
        "            num_reversed = count_syll(words) - syll_num\n",
        "            last_syll = (num_reversed == 1)\n",
        "            second_last_syll = (num_reversed == 2)\n",
        "    \n",
        "            if is_ict(POS_ms, left_syll, syll_onset, syll_type, right_onset, left_neigh, last_syll, second_last_syll) > 0.5:\n",
        "                mono_ict_num.append(syll_num)\n",
        "\n",
        "    line = accent_line(line)\n",
        "    line = re.sub(r'[аяоёуюыиэеАЯОЁУЮЫИЭЕ]\\'', '1', line)\n",
        "    # заменяем гласная+' на 1\n",
        "    line = re.sub(r'[аяоёуюыиэеАЯОЁУЮЫИЭЕ]', '0', line)\n",
        "    # заменяем оставшиеся гласные на нули\n",
        "    line = re.sub(r'[^01]', '', line)\n",
        "    # стираем всё кроме цифр\n",
        "    line = list(line)\n",
        "    for i in mono_ict_num:\n",
        "        line[i] = '1'\n",
        "\n",
        "    return line"
      ],
      "metadata": {
        "id": "bkgWH8FgVI9G"
      },
      "execution_count": null,
      "outputs": []
    },
    {
      "cell_type": "code",
      "source": [
        "lines_test['meter_match_mono'] = lines_test.progress_apply(lambda x: meter_match(x.line, x.meter, function_name='verse_scheme_mono'), axis=1)"
      ],
      "metadata": {
        "colab": {
          "base_uri": "https://localhost:8080/"
        },
        "id": "xD06sx04r3dw",
        "outputId": "36410e88-a240-402b-b6e0-00f4db4e9aeb"
      },
      "execution_count": null,
      "outputs": [
        {
          "output_type": "stream",
          "name": "stderr",
          "text": [
            "100%|██████████| 999/999 [03:43<00:00,  4.48it/s]\n"
          ]
        }
      ]
    },
    {
      "cell_type": "code",
      "source": [
        "print(lines_test.groupby(by=['meter_match_mono'])['meter_match_mono'].count())"
      ],
      "metadata": {
        "colab": {
          "base_uri": "https://localhost:8080/"
        },
        "id": "pD91JflztOn-",
        "outputId": "0df319ea-0021-4c77-9028-bf42c70de5fe"
      },
      "execution_count": null,
      "outputs": [
        {
          "output_type": "stream",
          "name": "stdout",
          "text": [
            "meter_match_mono\n",
            "False     82\n",
            "True     917\n",
            "Name: meter_match_mono, dtype: int64\n"
          ]
        }
      ]
    },
    {
      "cell_type": "code",
      "source": [
        "round(917/(917 + 82), 2)"
      ],
      "metadata": {
        "colab": {
          "base_uri": "https://localhost:8080/"
        },
        "id": "kxb8ICj4tVSG",
        "outputId": "8bde8d12-aa9c-4861-8734-fdd14343cac0"
      },
      "execution_count": null,
      "outputs": [
        {
          "output_type": "execute_result",
          "data": {
            "text/plain": [
              "0.92"
            ]
          },
          "metadata": {},
          "execution_count": 47
        }
      ]
    },
    {
      "cell_type": "markdown",
      "source": [
        "## Ошибочные предсказания"
      ],
      "metadata": {
        "id": "WDY7_Cw8JC1E"
      }
    },
    {
      "cell_type": "code",
      "source": [
        "lines_test[(lines_test['meter_match'] == True) & (lines_test['meter_match_mono'] == False)]\n",
        "# строки, где размер определился верно, а после надстройки неверно"
      ],
      "metadata": {
        "colab": {
          "base_uri": "https://localhost:8080/",
          "height": 331
        },
        "id": "9ECQkjL-Izjk",
        "outputId": "29ab8f84-c58a-4e00-c3da-9530fa6484e2"
      },
      "execution_count": null,
      "outputs": [
        {
          "output_type": "execute_result",
          "data": {
            "text/plain": [
              "     line_id                                       line    meter  meter_match  \\\n",
              "264   571471                   То по̀ле, гдѐ мы жѝли,      Я3ж         True   \n",
              "353  1615122                    И бро̀сился̀ сам пря̀мо      Я3ж         True   \n",
              "407   553041       Ну так что̀ же, что ста̀ли мы ско̀ро     Ан3ж         True   \n",
              "416   627830             Ты̀ скажѝ-ка лу̀чше во̀т что:      Х4ж         True   \n",
              "420  1190026  Ѝ как ка̀мень па̀дает ѝз высо̀ких ту̀ч.  Х3д~Х3м         True   \n",
              "464   281305       За̀хотѐл он у̀летѐть, да̀ не мо̀г,  Х4м~Х2м         True   \n",
              "495  1495821         Ты̀ не птѝчка, но̀ твой ло̀кон --      Х4ж         True   \n",
              "667  2151577            Одно̀ моѐ лишь сѐрдце млѐет,      Я4ж         True   \n",
              "874  1939931   «Вот, -- го̀воря̀т ему̀, -- ты до̀ чего̀      Я5м         True   \n",
              "\n",
              "     meter_match_mono  \n",
              "264             False  \n",
              "353             False  \n",
              "407             False  \n",
              "416             False  \n",
              "420             False  \n",
              "464             False  \n",
              "495             False  \n",
              "667             False  \n",
              "874             False  "
            ],
            "text/html": [
              "\n",
              "  <div id=\"df-f2247e0e-68d4-49ce-9606-5ca837eda2a7\">\n",
              "    <div class=\"colab-df-container\">\n",
              "      <div>\n",
              "<style scoped>\n",
              "    .dataframe tbody tr th:only-of-type {\n",
              "        vertical-align: middle;\n",
              "    }\n",
              "\n",
              "    .dataframe tbody tr th {\n",
              "        vertical-align: top;\n",
              "    }\n",
              "\n",
              "    .dataframe thead th {\n",
              "        text-align: right;\n",
              "    }\n",
              "</style>\n",
              "<table border=\"1\" class=\"dataframe\">\n",
              "  <thead>\n",
              "    <tr style=\"text-align: right;\">\n",
              "      <th></th>\n",
              "      <th>line_id</th>\n",
              "      <th>line</th>\n",
              "      <th>meter</th>\n",
              "      <th>meter_match</th>\n",
              "      <th>meter_match_mono</th>\n",
              "    </tr>\n",
              "  </thead>\n",
              "  <tbody>\n",
              "    <tr>\n",
              "      <th>264</th>\n",
              "      <td>571471</td>\n",
              "      <td>То по̀ле, гдѐ мы жѝли,</td>\n",
              "      <td>Я3ж</td>\n",
              "      <td>True</td>\n",
              "      <td>False</td>\n",
              "    </tr>\n",
              "    <tr>\n",
              "      <th>353</th>\n",
              "      <td>1615122</td>\n",
              "      <td>И бро̀сился̀ сам пря̀мо</td>\n",
              "      <td>Я3ж</td>\n",
              "      <td>True</td>\n",
              "      <td>False</td>\n",
              "    </tr>\n",
              "    <tr>\n",
              "      <th>407</th>\n",
              "      <td>553041</td>\n",
              "      <td>Ну так что̀ же, что ста̀ли мы ско̀ро</td>\n",
              "      <td>Ан3ж</td>\n",
              "      <td>True</td>\n",
              "      <td>False</td>\n",
              "    </tr>\n",
              "    <tr>\n",
              "      <th>416</th>\n",
              "      <td>627830</td>\n",
              "      <td>Ты̀ скажѝ-ка лу̀чше во̀т что:</td>\n",
              "      <td>Х4ж</td>\n",
              "      <td>True</td>\n",
              "      <td>False</td>\n",
              "    </tr>\n",
              "    <tr>\n",
              "      <th>420</th>\n",
              "      <td>1190026</td>\n",
              "      <td>Ѝ как ка̀мень па̀дает ѝз высо̀ких ту̀ч.</td>\n",
              "      <td>Х3д~Х3м</td>\n",
              "      <td>True</td>\n",
              "      <td>False</td>\n",
              "    </tr>\n",
              "    <tr>\n",
              "      <th>464</th>\n",
              "      <td>281305</td>\n",
              "      <td>За̀хотѐл он у̀летѐть, да̀ не мо̀г,</td>\n",
              "      <td>Х4м~Х2м</td>\n",
              "      <td>True</td>\n",
              "      <td>False</td>\n",
              "    </tr>\n",
              "    <tr>\n",
              "      <th>495</th>\n",
              "      <td>1495821</td>\n",
              "      <td>Ты̀ не птѝчка, но̀ твой ло̀кон --</td>\n",
              "      <td>Х4ж</td>\n",
              "      <td>True</td>\n",
              "      <td>False</td>\n",
              "    </tr>\n",
              "    <tr>\n",
              "      <th>667</th>\n",
              "      <td>2151577</td>\n",
              "      <td>Одно̀ моѐ лишь сѐрдце млѐет,</td>\n",
              "      <td>Я4ж</td>\n",
              "      <td>True</td>\n",
              "      <td>False</td>\n",
              "    </tr>\n",
              "    <tr>\n",
              "      <th>874</th>\n",
              "      <td>1939931</td>\n",
              "      <td>«Вот, -- го̀воря̀т ему̀, -- ты до̀ чего̀</td>\n",
              "      <td>Я5м</td>\n",
              "      <td>True</td>\n",
              "      <td>False</td>\n",
              "    </tr>\n",
              "  </tbody>\n",
              "</table>\n",
              "</div>\n",
              "      <button class=\"colab-df-convert\" onclick=\"convertToInteractive('df-f2247e0e-68d4-49ce-9606-5ca837eda2a7')\"\n",
              "              title=\"Convert this dataframe to an interactive table.\"\n",
              "              style=\"display:none;\">\n",
              "        \n",
              "  <svg xmlns=\"http://www.w3.org/2000/svg\" height=\"24px\"viewBox=\"0 0 24 24\"\n",
              "       width=\"24px\">\n",
              "    <path d=\"M0 0h24v24H0V0z\" fill=\"none\"/>\n",
              "    <path d=\"M18.56 5.44l.94 2.06.94-2.06 2.06-.94-2.06-.94-.94-2.06-.94 2.06-2.06.94zm-11 1L8.5 8.5l.94-2.06 2.06-.94-2.06-.94L8.5 2.5l-.94 2.06-2.06.94zm10 10l.94 2.06.94-2.06 2.06-.94-2.06-.94-.94-2.06-.94 2.06-2.06.94z\"/><path d=\"M17.41 7.96l-1.37-1.37c-.4-.4-.92-.59-1.43-.59-.52 0-1.04.2-1.43.59L10.3 9.45l-7.72 7.72c-.78.78-.78 2.05 0 2.83L4 21.41c.39.39.9.59 1.41.59.51 0 1.02-.2 1.41-.59l7.78-7.78 2.81-2.81c.8-.78.8-2.07 0-2.86zM5.41 20L4 18.59l7.72-7.72 1.47 1.35L5.41 20z\"/>\n",
              "  </svg>\n",
              "      </button>\n",
              "      \n",
              "  <style>\n",
              "    .colab-df-container {\n",
              "      display:flex;\n",
              "      flex-wrap:wrap;\n",
              "      gap: 12px;\n",
              "    }\n",
              "\n",
              "    .colab-df-convert {\n",
              "      background-color: #E8F0FE;\n",
              "      border: none;\n",
              "      border-radius: 50%;\n",
              "      cursor: pointer;\n",
              "      display: none;\n",
              "      fill: #1967D2;\n",
              "      height: 32px;\n",
              "      padding: 0 0 0 0;\n",
              "      width: 32px;\n",
              "    }\n",
              "\n",
              "    .colab-df-convert:hover {\n",
              "      background-color: #E2EBFA;\n",
              "      box-shadow: 0px 1px 2px rgba(60, 64, 67, 0.3), 0px 1px 3px 1px rgba(60, 64, 67, 0.15);\n",
              "      fill: #174EA6;\n",
              "    }\n",
              "\n",
              "    [theme=dark] .colab-df-convert {\n",
              "      background-color: #3B4455;\n",
              "      fill: #D2E3FC;\n",
              "    }\n",
              "\n",
              "    [theme=dark] .colab-df-convert:hover {\n",
              "      background-color: #434B5C;\n",
              "      box-shadow: 0px 1px 3px 1px rgba(0, 0, 0, 0.15);\n",
              "      filter: drop-shadow(0px 1px 2px rgba(0, 0, 0, 0.3));\n",
              "      fill: #FFFFFF;\n",
              "    }\n",
              "  </style>\n",
              "\n",
              "      <script>\n",
              "        const buttonEl =\n",
              "          document.querySelector('#df-f2247e0e-68d4-49ce-9606-5ca837eda2a7 button.colab-df-convert');\n",
              "        buttonEl.style.display =\n",
              "          google.colab.kernel.accessAllowed ? 'block' : 'none';\n",
              "\n",
              "        async function convertToInteractive(key) {\n",
              "          const element = document.querySelector('#df-f2247e0e-68d4-49ce-9606-5ca837eda2a7');\n",
              "          const dataTable =\n",
              "            await google.colab.kernel.invokeFunction('convertToInteractive',\n",
              "                                                     [key], {});\n",
              "          if (!dataTable) return;\n",
              "\n",
              "          const docLinkHtml = 'Like what you see? Visit the ' +\n",
              "            '<a target=\"_blank\" href=https://colab.research.google.com/notebooks/data_table.ipynb>data table notebook</a>'\n",
              "            + ' to learn more about interactive tables.';\n",
              "          element.innerHTML = '';\n",
              "          dataTable['output_type'] = 'display_data';\n",
              "          await google.colab.output.renderOutput(dataTable, element);\n",
              "          const docLink = document.createElement('div');\n",
              "          docLink.innerHTML = docLinkHtml;\n",
              "          element.appendChild(docLink);\n",
              "        }\n",
              "      </script>\n",
              "    </div>\n",
              "  </div>\n",
              "  "
            ]
          },
          "metadata": {},
          "execution_count": 48
        }
      ]
    },
    {
      "cell_type": "code",
      "source": [
        "lines_test[(lines_test['meter_match'] == False) & (lines_test['meter_match_mono'] == False)]"
      ],
      "metadata": {
        "colab": {
          "base_uri": "https://localhost:8080/",
          "height": 423
        },
        "id": "xBV9dx3ZKIaO",
        "outputId": "18c6b890-c897-488c-e49c-8e1fa57ee6ed"
      },
      "execution_count": null,
      "outputs": [
        {
          "output_type": "execute_result",
          "data": {
            "text/plain": [
              "     line_id                                            line meter  \\\n",
              "9    2259662           Но за̀мер рѐв. Я по̀дошѐл к утѐсу,   Я5ж   \n",
              "10   1460865                С их ска̀зкой чу̀дной глу̀бины̀.   Я4м   \n",
              "20    740512            Прѝтворя̀ются̀ на всё̀ согла̀сными.   Х5д   \n",
              "23    439617                        Тут ра̀згово̀р коро̀ток,   Я3ж   \n",
              "34    266111  Мы тра̀тим стра̀сть без счѐта, бѐз огля̀дки,   Я5ж   \n",
              "..       ...                                             ...   ...   \n",
              "927  2274104      Да, го̀ре ѐй -- и чѐм просто̀сердѐчней,   Я5ж   \n",
              "938  2151536                        Новый го̀д!  Новый го̀д!  Ан2м   \n",
              "978    50962              Вдоль лѐстниц до̀ само̀й вершѝны   Я4ж   \n",
              "988   896378                                       На у̀лице   Я1д   \n",
              "991  1094890                       Та̀ют и тѐплятся свѐчи,   Д3ж   \n",
              "\n",
              "     meter_match  meter_match_mono  \n",
              "9          False             False  \n",
              "10         False             False  \n",
              "20         False             False  \n",
              "23         False             False  \n",
              "34         False             False  \n",
              "..           ...               ...  \n",
              "927        False             False  \n",
              "938        False             False  \n",
              "978        False             False  \n",
              "988        False             False  \n",
              "991        False             False  \n",
              "\n",
              "[73 rows x 5 columns]"
            ],
            "text/html": [
              "\n",
              "  <div id=\"df-4db7fca8-032a-41f6-b537-e7d998664f40\">\n",
              "    <div class=\"colab-df-container\">\n",
              "      <div>\n",
              "<style scoped>\n",
              "    .dataframe tbody tr th:only-of-type {\n",
              "        vertical-align: middle;\n",
              "    }\n",
              "\n",
              "    .dataframe tbody tr th {\n",
              "        vertical-align: top;\n",
              "    }\n",
              "\n",
              "    .dataframe thead th {\n",
              "        text-align: right;\n",
              "    }\n",
              "</style>\n",
              "<table border=\"1\" class=\"dataframe\">\n",
              "  <thead>\n",
              "    <tr style=\"text-align: right;\">\n",
              "      <th></th>\n",
              "      <th>line_id</th>\n",
              "      <th>line</th>\n",
              "      <th>meter</th>\n",
              "      <th>meter_match</th>\n",
              "      <th>meter_match_mono</th>\n",
              "    </tr>\n",
              "  </thead>\n",
              "  <tbody>\n",
              "    <tr>\n",
              "      <th>9</th>\n",
              "      <td>2259662</td>\n",
              "      <td>Но за̀мер рѐв. Я по̀дошѐл к утѐсу,</td>\n",
              "      <td>Я5ж</td>\n",
              "      <td>False</td>\n",
              "      <td>False</td>\n",
              "    </tr>\n",
              "    <tr>\n",
              "      <th>10</th>\n",
              "      <td>1460865</td>\n",
              "      <td>С их ска̀зкой чу̀дной глу̀бины̀.</td>\n",
              "      <td>Я4м</td>\n",
              "      <td>False</td>\n",
              "      <td>False</td>\n",
              "    </tr>\n",
              "    <tr>\n",
              "      <th>20</th>\n",
              "      <td>740512</td>\n",
              "      <td>Прѝтворя̀ются̀ на всё̀ согла̀сными.</td>\n",
              "      <td>Х5д</td>\n",
              "      <td>False</td>\n",
              "      <td>False</td>\n",
              "    </tr>\n",
              "    <tr>\n",
              "      <th>23</th>\n",
              "      <td>439617</td>\n",
              "      <td>Тут ра̀згово̀р коро̀ток,</td>\n",
              "      <td>Я3ж</td>\n",
              "      <td>False</td>\n",
              "      <td>False</td>\n",
              "    </tr>\n",
              "    <tr>\n",
              "      <th>34</th>\n",
              "      <td>266111</td>\n",
              "      <td>Мы тра̀тим стра̀сть без счѐта, бѐз огля̀дки,</td>\n",
              "      <td>Я5ж</td>\n",
              "      <td>False</td>\n",
              "      <td>False</td>\n",
              "    </tr>\n",
              "    <tr>\n",
              "      <th>...</th>\n",
              "      <td>...</td>\n",
              "      <td>...</td>\n",
              "      <td>...</td>\n",
              "      <td>...</td>\n",
              "      <td>...</td>\n",
              "    </tr>\n",
              "    <tr>\n",
              "      <th>927</th>\n",
              "      <td>2274104</td>\n",
              "      <td>Да, го̀ре ѐй -- и чѐм просто̀сердѐчней,</td>\n",
              "      <td>Я5ж</td>\n",
              "      <td>False</td>\n",
              "      <td>False</td>\n",
              "    </tr>\n",
              "    <tr>\n",
              "      <th>938</th>\n",
              "      <td>2151536</td>\n",
              "      <td>Новый го̀д!  Новый го̀д!</td>\n",
              "      <td>Ан2м</td>\n",
              "      <td>False</td>\n",
              "      <td>False</td>\n",
              "    </tr>\n",
              "    <tr>\n",
              "      <th>978</th>\n",
              "      <td>50962</td>\n",
              "      <td>Вдоль лѐстниц до̀ само̀й вершѝны</td>\n",
              "      <td>Я4ж</td>\n",
              "      <td>False</td>\n",
              "      <td>False</td>\n",
              "    </tr>\n",
              "    <tr>\n",
              "      <th>988</th>\n",
              "      <td>896378</td>\n",
              "      <td>На у̀лице</td>\n",
              "      <td>Я1д</td>\n",
              "      <td>False</td>\n",
              "      <td>False</td>\n",
              "    </tr>\n",
              "    <tr>\n",
              "      <th>991</th>\n",
              "      <td>1094890</td>\n",
              "      <td>Та̀ют и тѐплятся свѐчи,</td>\n",
              "      <td>Д3ж</td>\n",
              "      <td>False</td>\n",
              "      <td>False</td>\n",
              "    </tr>\n",
              "  </tbody>\n",
              "</table>\n",
              "<p>73 rows × 5 columns</p>\n",
              "</div>\n",
              "      <button class=\"colab-df-convert\" onclick=\"convertToInteractive('df-4db7fca8-032a-41f6-b537-e7d998664f40')\"\n",
              "              title=\"Convert this dataframe to an interactive table.\"\n",
              "              style=\"display:none;\">\n",
              "        \n",
              "  <svg xmlns=\"http://www.w3.org/2000/svg\" height=\"24px\"viewBox=\"0 0 24 24\"\n",
              "       width=\"24px\">\n",
              "    <path d=\"M0 0h24v24H0V0z\" fill=\"none\"/>\n",
              "    <path d=\"M18.56 5.44l.94 2.06.94-2.06 2.06-.94-2.06-.94-.94-2.06-.94 2.06-2.06.94zm-11 1L8.5 8.5l.94-2.06 2.06-.94-2.06-.94L8.5 2.5l-.94 2.06-2.06.94zm10 10l.94 2.06.94-2.06 2.06-.94-2.06-.94-.94-2.06-.94 2.06-2.06.94z\"/><path d=\"M17.41 7.96l-1.37-1.37c-.4-.4-.92-.59-1.43-.59-.52 0-1.04.2-1.43.59L10.3 9.45l-7.72 7.72c-.78.78-.78 2.05 0 2.83L4 21.41c.39.39.9.59 1.41.59.51 0 1.02-.2 1.41-.59l7.78-7.78 2.81-2.81c.8-.78.8-2.07 0-2.86zM5.41 20L4 18.59l7.72-7.72 1.47 1.35L5.41 20z\"/>\n",
              "  </svg>\n",
              "      </button>\n",
              "      \n",
              "  <style>\n",
              "    .colab-df-container {\n",
              "      display:flex;\n",
              "      flex-wrap:wrap;\n",
              "      gap: 12px;\n",
              "    }\n",
              "\n",
              "    .colab-df-convert {\n",
              "      background-color: #E8F0FE;\n",
              "      border: none;\n",
              "      border-radius: 50%;\n",
              "      cursor: pointer;\n",
              "      display: none;\n",
              "      fill: #1967D2;\n",
              "      height: 32px;\n",
              "      padding: 0 0 0 0;\n",
              "      width: 32px;\n",
              "    }\n",
              "\n",
              "    .colab-df-convert:hover {\n",
              "      background-color: #E2EBFA;\n",
              "      box-shadow: 0px 1px 2px rgba(60, 64, 67, 0.3), 0px 1px 3px 1px rgba(60, 64, 67, 0.15);\n",
              "      fill: #174EA6;\n",
              "    }\n",
              "\n",
              "    [theme=dark] .colab-df-convert {\n",
              "      background-color: #3B4455;\n",
              "      fill: #D2E3FC;\n",
              "    }\n",
              "\n",
              "    [theme=dark] .colab-df-convert:hover {\n",
              "      background-color: #434B5C;\n",
              "      box-shadow: 0px 1px 3px 1px rgba(0, 0, 0, 0.15);\n",
              "      filter: drop-shadow(0px 1px 2px rgba(0, 0, 0, 0.3));\n",
              "      fill: #FFFFFF;\n",
              "    }\n",
              "  </style>\n",
              "\n",
              "      <script>\n",
              "        const buttonEl =\n",
              "          document.querySelector('#df-4db7fca8-032a-41f6-b537-e7d998664f40 button.colab-df-convert');\n",
              "        buttonEl.style.display =\n",
              "          google.colab.kernel.accessAllowed ? 'block' : 'none';\n",
              "\n",
              "        async function convertToInteractive(key) {\n",
              "          const element = document.querySelector('#df-4db7fca8-032a-41f6-b537-e7d998664f40');\n",
              "          const dataTable =\n",
              "            await google.colab.kernel.invokeFunction('convertToInteractive',\n",
              "                                                     [key], {});\n",
              "          if (!dataTable) return;\n",
              "\n",
              "          const docLinkHtml = 'Like what you see? Visit the ' +\n",
              "            '<a target=\"_blank\" href=https://colab.research.google.com/notebooks/data_table.ipynb>data table notebook</a>'\n",
              "            + ' to learn more about interactive tables.';\n",
              "          element.innerHTML = '';\n",
              "          dataTable['output_type'] = 'display_data';\n",
              "          await google.colab.output.renderOutput(dataTable, element);\n",
              "          const docLink = document.createElement('div');\n",
              "          docLink.innerHTML = docLinkHtml;\n",
              "          element.appendChild(docLink);\n",
              "        }\n",
              "      </script>\n",
              "    </div>\n",
              "  </div>\n",
              "  "
            ]
          },
          "metadata": {},
          "execution_count": 49
        }
      ]
    },
    {
      "cell_type": "code",
      "source": [
        "accent_line('Да, горе ей -- и чем простосердечней,')"
      ],
      "metadata": {
        "colab": {
          "base_uri": "https://localhost:8080/",
          "height": 35
        },
        "id": "3FEtk-gfPaWy",
        "outputId": "20fd7baf-b6ac-40cf-dff0-a8e573cc7768"
      },
      "execution_count": null,
      "outputs": [
        {
          "output_type": "execute_result",
          "data": {
            "text/plain": [
              "\"Да, го'ре ей -- и чем простосердечне'й,\""
            ],
            "application/vnd.google.colaboratory.intrinsic+json": {
              "type": "string"
            }
          },
          "metadata": {},
          "execution_count": 50
        }
      ]
    },
    {
      "cell_type": "markdown",
      "source": [
        "## Меняем веса ошибок:"
      ],
      "metadata": {
        "id": "ytIVGMfGy35k"
      }
    },
    {
      "cell_type": "code",
      "source": [
        "lines_test['meter_match_1'] = lines_test.progress_apply(lambda x: meter_match(x.line, x.meter, a1=4, a2=1), axis=1)"
      ],
      "metadata": {
        "colab": {
          "base_uri": "https://localhost:8080/"
        },
        "outputId": "8b3c0042-7763-4625-ae85-1d8027961a3a",
        "id": "W28NZgpDxhxt"
      },
      "execution_count": null,
      "outputs": [
        {
          "output_type": "stream",
          "name": "stderr",
          "text": [
            "100%|██████████| 999/999 [03:57<00:00,  4.20it/s]\n"
          ]
        }
      ]
    },
    {
      "cell_type": "code",
      "source": [
        "print(lines_test.groupby(by=['meter_match_1'])['meter_match_1'].count())"
      ],
      "metadata": {
        "colab": {
          "base_uri": "https://localhost:8080/"
        },
        "outputId": "7bc64c6b-bbf8-4c0b-e0b6-af2dbf32dbbf",
        "id": "A18XBEXAxhxu"
      },
      "execution_count": null,
      "outputs": [
        {
          "output_type": "stream",
          "name": "stdout",
          "text": [
            "meter_match_1\n",
            "False    201\n",
            "True     798\n",
            "Name: meter_match_1, dtype: int64\n"
          ]
        }
      ]
    },
    {
      "cell_type": "code",
      "source": [
        "round(798/(798 + 201), 2)"
      ],
      "metadata": {
        "colab": {
          "base_uri": "https://localhost:8080/"
        },
        "outputId": "dcc8505f-0f31-496c-bae4-cacf00595d07",
        "id": "_sQ_217Bxhxu"
      },
      "execution_count": null,
      "outputs": [
        {
          "output_type": "execute_result",
          "data": {
            "text/plain": [
              "0.8"
            ]
          },
          "metadata": {},
          "execution_count": 46
        }
      ]
    },
    {
      "cell_type": "code",
      "source": [
        "lines_test['meter_match_mono_1'] = lines_test.progress_apply(lambda x: meter_match(x.line, x.meter, function_name='verse_scheme_mono', a1=4, a2=1), axis=1)"
      ],
      "metadata": {
        "colab": {
          "base_uri": "https://localhost:8080/"
        },
        "outputId": "32e46e04-1f81-4a44-c7e1-31db2c88e757",
        "id": "162zF2zJ1SCe"
      },
      "execution_count": null,
      "outputs": [
        {
          "output_type": "stream",
          "name": "stderr",
          "text": [
            "100%|██████████| 999/999 [04:13<00:00,  3.94it/s]\n"
          ]
        }
      ]
    },
    {
      "cell_type": "code",
      "source": [
        "print(lines_test.groupby(by=['meter_match_mono_1'])['meter_match_mono_1'].count())"
      ],
      "metadata": {
        "colab": {
          "base_uri": "https://localhost:8080/"
        },
        "id": "Z0BFOGzv1SCf",
        "outputId": "1896d522-611f-49e0-90a9-ed7c2672db64"
      },
      "execution_count": null,
      "outputs": [
        {
          "output_type": "stream",
          "name": "stdout",
          "text": [
            "meter_match_mono_1\n",
            "False     81\n",
            "True     918\n",
            "Name: meter_match_mono_1, dtype: int64\n"
          ]
        }
      ]
    },
    {
      "cell_type": "code",
      "source": [
        "round(918/(918 + 81), 2)"
      ],
      "metadata": {
        "colab": {
          "base_uri": "https://localhost:8080/"
        },
        "id": "jwr4Nl5Z1SCf",
        "outputId": "feabcbb5-f432-4362-ee22-75c825870d94"
      },
      "execution_count": null,
      "outputs": [
        {
          "output_type": "execute_result",
          "data": {
            "text/plain": [
              "0.92"
            ]
          },
          "metadata": {},
          "execution_count": 47
        }
      ]
    },
    {
      "cell_type": "code",
      "source": [
        "lines_test['meter_match_mono_2'] = lines_test.progress_apply(lambda x: meter_match(x.line, x.meter, function_name='verse_scheme_mono', a1=0, a2=1), axis=1)"
      ],
      "metadata": {
        "colab": {
          "base_uri": "https://localhost:8080/"
        },
        "outputId": "dd44784c-4e5c-41ff-d29e-e160d24e7861",
        "id": "XoGnoUYzILuT"
      },
      "execution_count": null,
      "outputs": [
        {
          "output_type": "stream",
          "name": "stderr",
          "text": [
            " 94%|█████████▎| 936/999 [03:51<00:19,  3.30it/s]"
          ]
        }
      ]
    },
    {
      "cell_type": "code",
      "source": [
        "print(lines_test.groupby(by=['meter_match_mono_2'])['meter_match_mono_2'].count())"
      ],
      "metadata": {
        "colab": {
          "base_uri": "https://localhost:8080/"
        },
        "outputId": "37657313-ec22-436e-8bc2-4aa94e271e67",
        "id": "Oyw9_0CCILuT"
      },
      "execution_count": null,
      "outputs": [
        {
          "output_type": "stream",
          "name": "stdout",
          "text": [
            "meter_match_mono_2\n",
            "False    171\n",
            "True     828\n",
            "Name: meter_match_mono_2, dtype: int64\n"
          ]
        }
      ]
    },
    {
      "cell_type": "code",
      "source": [
        "round(828/(828 + 171), 2)"
      ],
      "metadata": {
        "colab": {
          "base_uri": "https://localhost:8080/"
        },
        "outputId": "d091830a-a4fe-4615-dff4-82ca2a3879e6",
        "id": "nS_7IqJfILuT"
      },
      "execution_count": null,
      "outputs": [
        {
          "output_type": "execute_result",
          "data": {
            "text/plain": [
              "0.83"
            ]
          },
          "metadata": {},
          "execution_count": 52
        }
      ]
    },
    {
      "cell_type": "code",
      "source": [
        "lines_test['meter_match_mono_3'] = lines_test.progress_apply(lambda x: meter_match(x.line, x.meter, function_name='verse_scheme_mono', a1=1, a2=0), axis=1)"
      ],
      "metadata": {
        "colab": {
          "base_uri": "https://localhost:8080/"
        },
        "outputId": "140296ab-61a7-43e9-c76c-bcaee5e92aac",
        "id": "wwFaN563S6zI"
      },
      "execution_count": null,
      "outputs": [
        {
          "output_type": "stream",
          "name": "stderr",
          "text": [
            "100%|██████████| 999/999 [04:02<00:00,  4.11it/s]\n"
          ]
        }
      ]
    },
    {
      "cell_type": "code",
      "source": [
        "print(lines_test.groupby(by=['meter_match_mono_3'])['meter_match_mono_3'].count())"
      ],
      "metadata": {
        "colab": {
          "base_uri": "https://localhost:8080/"
        },
        "outputId": "66d5abd5-8ec3-440a-bbef-3407e6253f15",
        "id": "aoQeekTGS6zO"
      },
      "execution_count": null,
      "outputs": [
        {
          "output_type": "stream",
          "name": "stdout",
          "text": [
            "meter_match_mono_3\n",
            "False     93\n",
            "True     906\n",
            "Name: meter_match_mono_3, dtype: int64\n"
          ]
        }
      ]
    },
    {
      "cell_type": "code",
      "source": [
        "round(906/(906 + 93), 2)"
      ],
      "metadata": {
        "colab": {
          "base_uri": "https://localhost:8080/"
        },
        "outputId": "f2600c2d-93cd-4e1c-f253-fd555aed8b36",
        "id": "-4prJ-0tS6zO"
      },
      "execution_count": null,
      "outputs": [
        {
          "output_type": "execute_result",
          "data": {
            "text/plain": [
              "0.91"
            ]
          },
          "metadata": {},
          "execution_count": 56
        }
      ]
    },
    {
      "cell_type": "code",
      "source": [
        "lines_test"
      ],
      "metadata": {
        "colab": {
          "base_uri": "https://localhost:8080/",
          "height": 423
        },
        "id": "fNnqBGSwF3Ex",
        "outputId": "4588245b-e93c-4603-eb8a-83d25a222af9"
      },
      "execution_count": null,
      "outputs": [
        {
          "output_type": "execute_result",
          "data": {
            "text/plain": [
              "     line_id                                          line meter  meter_match  \\\n",
              "0    1189335    За то̀, что ду̀х твой твѐрд, как ка̀мень,   Я4ж        False   \n",
              "1    1315753              Руна̀ золото̀го и го̀лого тѐла.  Аф4ж         True   \n",
              "2    1536129              Шлѝ на дно̀, на дно̀, на дно̀..   Х4м        False   \n",
              "3     161091                          Вѝдел со̀н Мушкѐт:   Х3м         True   \n",
              "4    1516377                             там, в партѐре!»  Ан1ж         True   \n",
              "..       ...                                           ...   ...          ...   \n",
              "994    31499                   Что̀ зима̀ ведѐт к веснѐ?   Х4м         True   \n",
              "995  2364502      Напра̀сно! ты̀ была̀ в объя̀тия̀х моѝх,   Я6м         True   \n",
              "996   444457                        Типѝчный бы̀л лиха̀ч.   Я3м         True   \n",
              "997   329978         Он смо̀трит в по̀желтѐвшиѐ очкѝ...   Я5м         True   \n",
              "998   176067  И сказа̀ла она̀ в той трущо̀бе без тро̀п, --  Ан4м         True   \n",
              "\n",
              "     meter_match_1  meter_match_mono  meter_match_mono_1  \n",
              "0            False              True                True  \n",
              "1             True              True                True  \n",
              "2            False              True                True  \n",
              "3             True              True                True  \n",
              "4             True              True                True  \n",
              "..             ...               ...                 ...  \n",
              "994           True              True                True  \n",
              "995           True              True                True  \n",
              "996           True              True                True  \n",
              "997           True              True                True  \n",
              "998           True              True                True  \n",
              "\n",
              "[999 rows x 7 columns]"
            ],
            "text/html": [
              "\n",
              "  <div id=\"df-1b17aa04-f734-47ed-bdc0-07f3ba603d7f\">\n",
              "    <div class=\"colab-df-container\">\n",
              "      <div>\n",
              "<style scoped>\n",
              "    .dataframe tbody tr th:only-of-type {\n",
              "        vertical-align: middle;\n",
              "    }\n",
              "\n",
              "    .dataframe tbody tr th {\n",
              "        vertical-align: top;\n",
              "    }\n",
              "\n",
              "    .dataframe thead th {\n",
              "        text-align: right;\n",
              "    }\n",
              "</style>\n",
              "<table border=\"1\" class=\"dataframe\">\n",
              "  <thead>\n",
              "    <tr style=\"text-align: right;\">\n",
              "      <th></th>\n",
              "      <th>line_id</th>\n",
              "      <th>line</th>\n",
              "      <th>meter</th>\n",
              "      <th>meter_match</th>\n",
              "      <th>meter_match_1</th>\n",
              "      <th>meter_match_mono</th>\n",
              "      <th>meter_match_mono_1</th>\n",
              "    </tr>\n",
              "  </thead>\n",
              "  <tbody>\n",
              "    <tr>\n",
              "      <th>0</th>\n",
              "      <td>1189335</td>\n",
              "      <td>За то̀, что ду̀х твой твѐрд, как ка̀мень,</td>\n",
              "      <td>Я4ж</td>\n",
              "      <td>False</td>\n",
              "      <td>False</td>\n",
              "      <td>True</td>\n",
              "      <td>True</td>\n",
              "    </tr>\n",
              "    <tr>\n",
              "      <th>1</th>\n",
              "      <td>1315753</td>\n",
              "      <td>Руна̀ золото̀го и го̀лого тѐла.</td>\n",
              "      <td>Аф4ж</td>\n",
              "      <td>True</td>\n",
              "      <td>True</td>\n",
              "      <td>True</td>\n",
              "      <td>True</td>\n",
              "    </tr>\n",
              "    <tr>\n",
              "      <th>2</th>\n",
              "      <td>1536129</td>\n",
              "      <td>Шлѝ на дно̀, на дно̀, на дно̀..</td>\n",
              "      <td>Х4м</td>\n",
              "      <td>False</td>\n",
              "      <td>False</td>\n",
              "      <td>True</td>\n",
              "      <td>True</td>\n",
              "    </tr>\n",
              "    <tr>\n",
              "      <th>3</th>\n",
              "      <td>161091</td>\n",
              "      <td>Вѝдел со̀н Мушкѐт:</td>\n",
              "      <td>Х3м</td>\n",
              "      <td>True</td>\n",
              "      <td>True</td>\n",
              "      <td>True</td>\n",
              "      <td>True</td>\n",
              "    </tr>\n",
              "    <tr>\n",
              "      <th>4</th>\n",
              "      <td>1516377</td>\n",
              "      <td>там, в партѐре!»</td>\n",
              "      <td>Ан1ж</td>\n",
              "      <td>True</td>\n",
              "      <td>True</td>\n",
              "      <td>True</td>\n",
              "      <td>True</td>\n",
              "    </tr>\n",
              "    <tr>\n",
              "      <th>...</th>\n",
              "      <td>...</td>\n",
              "      <td>...</td>\n",
              "      <td>...</td>\n",
              "      <td>...</td>\n",
              "      <td>...</td>\n",
              "      <td>...</td>\n",
              "      <td>...</td>\n",
              "    </tr>\n",
              "    <tr>\n",
              "      <th>994</th>\n",
              "      <td>31499</td>\n",
              "      <td>Что̀ зима̀ ведѐт к веснѐ?</td>\n",
              "      <td>Х4м</td>\n",
              "      <td>True</td>\n",
              "      <td>True</td>\n",
              "      <td>True</td>\n",
              "      <td>True</td>\n",
              "    </tr>\n",
              "    <tr>\n",
              "      <th>995</th>\n",
              "      <td>2364502</td>\n",
              "      <td>Напра̀сно! ты̀ была̀ в объя̀тия̀х моѝх,</td>\n",
              "      <td>Я6м</td>\n",
              "      <td>True</td>\n",
              "      <td>True</td>\n",
              "      <td>True</td>\n",
              "      <td>True</td>\n",
              "    </tr>\n",
              "    <tr>\n",
              "      <th>996</th>\n",
              "      <td>444457</td>\n",
              "      <td>Типѝчный бы̀л лиха̀ч.</td>\n",
              "      <td>Я3м</td>\n",
              "      <td>True</td>\n",
              "      <td>True</td>\n",
              "      <td>True</td>\n",
              "      <td>True</td>\n",
              "    </tr>\n",
              "    <tr>\n",
              "      <th>997</th>\n",
              "      <td>329978</td>\n",
              "      <td>Он смо̀трит в по̀желтѐвшиѐ очкѝ...</td>\n",
              "      <td>Я5м</td>\n",
              "      <td>True</td>\n",
              "      <td>True</td>\n",
              "      <td>True</td>\n",
              "      <td>True</td>\n",
              "    </tr>\n",
              "    <tr>\n",
              "      <th>998</th>\n",
              "      <td>176067</td>\n",
              "      <td>И сказа̀ла она̀ в той трущо̀бе без тро̀п, --</td>\n",
              "      <td>Ан4м</td>\n",
              "      <td>True</td>\n",
              "      <td>True</td>\n",
              "      <td>True</td>\n",
              "      <td>True</td>\n",
              "    </tr>\n",
              "  </tbody>\n",
              "</table>\n",
              "<p>999 rows × 7 columns</p>\n",
              "</div>\n",
              "      <button class=\"colab-df-convert\" onclick=\"convertToInteractive('df-1b17aa04-f734-47ed-bdc0-07f3ba603d7f')\"\n",
              "              title=\"Convert this dataframe to an interactive table.\"\n",
              "              style=\"display:none;\">\n",
              "        \n",
              "  <svg xmlns=\"http://www.w3.org/2000/svg\" height=\"24px\"viewBox=\"0 0 24 24\"\n",
              "       width=\"24px\">\n",
              "    <path d=\"M0 0h24v24H0V0z\" fill=\"none\"/>\n",
              "    <path d=\"M18.56 5.44l.94 2.06.94-2.06 2.06-.94-2.06-.94-.94-2.06-.94 2.06-2.06.94zm-11 1L8.5 8.5l.94-2.06 2.06-.94-2.06-.94L8.5 2.5l-.94 2.06-2.06.94zm10 10l.94 2.06.94-2.06 2.06-.94-2.06-.94-.94-2.06-.94 2.06-2.06.94z\"/><path d=\"M17.41 7.96l-1.37-1.37c-.4-.4-.92-.59-1.43-.59-.52 0-1.04.2-1.43.59L10.3 9.45l-7.72 7.72c-.78.78-.78 2.05 0 2.83L4 21.41c.39.39.9.59 1.41.59.51 0 1.02-.2 1.41-.59l7.78-7.78 2.81-2.81c.8-.78.8-2.07 0-2.86zM5.41 20L4 18.59l7.72-7.72 1.47 1.35L5.41 20z\"/>\n",
              "  </svg>\n",
              "      </button>\n",
              "      \n",
              "  <style>\n",
              "    .colab-df-container {\n",
              "      display:flex;\n",
              "      flex-wrap:wrap;\n",
              "      gap: 12px;\n",
              "    }\n",
              "\n",
              "    .colab-df-convert {\n",
              "      background-color: #E8F0FE;\n",
              "      border: none;\n",
              "      border-radius: 50%;\n",
              "      cursor: pointer;\n",
              "      display: none;\n",
              "      fill: #1967D2;\n",
              "      height: 32px;\n",
              "      padding: 0 0 0 0;\n",
              "      width: 32px;\n",
              "    }\n",
              "\n",
              "    .colab-df-convert:hover {\n",
              "      background-color: #E2EBFA;\n",
              "      box-shadow: 0px 1px 2px rgba(60, 64, 67, 0.3), 0px 1px 3px 1px rgba(60, 64, 67, 0.15);\n",
              "      fill: #174EA6;\n",
              "    }\n",
              "\n",
              "    [theme=dark] .colab-df-convert {\n",
              "      background-color: #3B4455;\n",
              "      fill: #D2E3FC;\n",
              "    }\n",
              "\n",
              "    [theme=dark] .colab-df-convert:hover {\n",
              "      background-color: #434B5C;\n",
              "      box-shadow: 0px 1px 3px 1px rgba(0, 0, 0, 0.15);\n",
              "      filter: drop-shadow(0px 1px 2px rgba(0, 0, 0, 0.3));\n",
              "      fill: #FFFFFF;\n",
              "    }\n",
              "  </style>\n",
              "\n",
              "      <script>\n",
              "        const buttonEl =\n",
              "          document.querySelector('#df-1b17aa04-f734-47ed-bdc0-07f3ba603d7f button.colab-df-convert');\n",
              "        buttonEl.style.display =\n",
              "          google.colab.kernel.accessAllowed ? 'block' : 'none';\n",
              "\n",
              "        async function convertToInteractive(key) {\n",
              "          const element = document.querySelector('#df-1b17aa04-f734-47ed-bdc0-07f3ba603d7f');\n",
              "          const dataTable =\n",
              "            await google.colab.kernel.invokeFunction('convertToInteractive',\n",
              "                                                     [key], {});\n",
              "          if (!dataTable) return;\n",
              "\n",
              "          const docLinkHtml = 'Like what you see? Visit the ' +\n",
              "            '<a target=\"_blank\" href=https://colab.research.google.com/notebooks/data_table.ipynb>data table notebook</a>'\n",
              "            + ' to learn more about interactive tables.';\n",
              "          element.innerHTML = '';\n",
              "          dataTable['output_type'] = 'display_data';\n",
              "          await google.colab.output.renderOutput(dataTable, element);\n",
              "          const docLink = document.createElement('div');\n",
              "          docLink.innerHTML = docLinkHtml;\n",
              "          element.appendChild(docLink);\n",
              "        }\n",
              "      </script>\n",
              "    </div>\n",
              "  </div>\n",
              "  "
            ]
          },
          "metadata": {},
          "execution_count": 40
        }
      ]
    },
    {
      "cell_type": "code",
      "source": [
        "accent_line('И улыбается бедам.')"
      ],
      "metadata": {
        "colab": {
          "base_uri": "https://localhost:8080/",
          "height": 35
        },
        "id": "BAc7DVpHSr1y",
        "outputId": "19457a4f-9738-4bf6-bfb2-0d3b2627fb9c"
      },
      "execution_count": null,
      "outputs": [
        {
          "output_type": "execute_result",
          "data": {
            "text/plain": [
              "\"И улыба'ется бе'дам.\""
            ],
            "application/vnd.google.colaboratory.intrinsic+json": {
              "type": "string"
            }
          },
          "metadata": {},
          "execution_count": 50
        }
      ]
    },
    {
      "cell_type": "markdown",
      "source": [
        "## Иллюстрация работы алгоритма:"
      ],
      "metadata": {
        "id": "aFBaFGEcr3zV"
      }
    },
    {
      "cell_type": "code",
      "source": [
        "def meter_match_test(line, ans, function_name='verse_scheme_base', a1=1, a2=1):\n",
        "    line = re.sub(ict, '', line)\n",
        "    if function_name == 'verse_scheme_base':\n",
        "        rhythm = verse_scheme_base(line)\n",
        "    if function_name == 'verse_scheme_mono':\n",
        "        rhythm = verse_scheme_mono(line)  \n",
        "    scores = []\n",
        "    for meter in meters:\n",
        "        s = 0\n",
        "        for i in range(len(rhythm)):\n",
        "            if rhythm[i] == '1' and meter[i] == '0':\n",
        "                s += a1\n",
        "            elif rhythm[i] == '0' and meter[i] == '1':\n",
        "                s += a2\n",
        "        scores.append(s)\n",
        "    for i in range(len(scores)):\n",
        "        print(f'{meters_name[i]}: {scores[i]} ({meters[i][:10]}...)')\n",
        "    val, idx = min((val, idx) for (idx, val) in enumerate(scores))\n",
        "    return ans.startswith(meters_name[idx])"
      ],
      "metadata": {
        "id": "GdNwGFI3ur6O"
      },
      "execution_count": null,
      "outputs": []
    },
    {
      "cell_type": "code",
      "source": [
        "for i in test_lines_num[:3]:\n",
        "    line = verse_data.loc[i, 'line']\n",
        "    ans = verse_data.loc[i, 'clausula']\n",
        "    line = re.sub(ict, '', line)\n",
        "    print(line, ans)\n",
        "    rhythm = verse_scheme_base(line)\n",
        "    print(rhythm)\n",
        "    print(meter_match_test(line, ans, function_name='verse_scheme_base'))\n",
        "    rhythm = verse_scheme_mono(line)\n",
        "    print(rhythm)\n",
        "    print(meter_match_test(line, ans, function_name='verse_scheme_mono'))"
      ],
      "metadata": {
        "colab": {
          "base_uri": "https://localhost:8080/"
        },
        "id": "0C9vYNggjDHv",
        "outputId": "c3355f79-cc2f-4993-de22-86643a493b9f"
      },
      "execution_count": null,
      "outputs": [
        {
          "output_type": "stream",
          "name": "stdout",
          "text": [
            "За то, что дух твой тверд, как камень, Я4ж\n",
            "000000010\n",
            "Х: 6 (1010101010...)\n",
            "Я: 3 (0101010101...)\n",
            "Д: 4 (1001001001...)\n",
            "Аф: 2 (0100100100...)\n",
            "Ан: 4 (0010010010...)\n",
            "False\n",
            "['0', '1', '0', '1', '0', '1', '0', '1', '0']\n",
            "Х: 9 (1010101010...)\n",
            "Я: 0 (0101010101...)\n",
            "Д: 5 (1001001001...)\n",
            "Аф: 3 (0100100100...)\n",
            "Ан: 5 (0010010010...)\n",
            "True\n",
            "Руна золотого и голого тела. Аф4ж\n",
            "010010010010\n",
            "Х: 6 (1010101010...)\n",
            "Я: 6 (0101010101...)\n",
            "Д: 8 (1001001001...)\n",
            "Аф: 0 (0100100100...)\n",
            "Ан: 8 (0010010010...)\n",
            "True\n",
            "['0', '1', '0', '0', '1', '0', '0', '1', '0', '0', '1', '0']\n",
            "Х: 6 (1010101010...)\n",
            "Я: 6 (0101010101...)\n",
            "Д: 8 (1001001001...)\n",
            "Аф: 0 (0100100100...)\n",
            "Ан: 8 (0010010010...)\n",
            "True\n",
            "Шли на дно, на дно, на дно.. Х4м\n",
            "0000000\n",
            "Х: 4 (1010101010...)\n",
            "Я: 3 (0101010101...)\n",
            "Д: 3 (1001001001...)\n",
            "Аф: 2 (0100100100...)\n",
            "Ан: 2 (0010010010...)\n",
            "False\n",
            "['0', '0', '1', '0', '1', '0', '1']\n",
            "Х: 1 (1010101010...)\n",
            "Я: 6 (0101010101...)\n",
            "Д: 4 (1001001001...)\n",
            "Аф: 3 (0100100100...)\n",
            "Ан: 3 (0010010010...)\n",
            "True\n"
          ]
        }
      ]
    }
  ]
}