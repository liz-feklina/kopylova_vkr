{
 "cells": [
  {
   "cell_type": "code",
   "execution_count": null,
   "id": "ac852559",
   "metadata": {},
   "outputs": [],
   "source": [
    "!pip install pandas"
   ]
  },
  {
   "cell_type": "code",
   "execution_count": 2,
   "id": "2ae04629",
   "metadata": {},
   "outputs": [],
   "source": [
    "import pandas\n",
    "import time"
   ]
  },
  {
   "cell_type": "code",
   "execution_count": 3,
   "id": "a22750cd",
   "metadata": {},
   "outputs": [],
   "source": [
    "verse_data = pandas.read_csv('syllab-tonic-lines.tsv',sep='\\t')"
   ]
  },
  {
   "cell_type": "code",
   "execution_count": 4,
   "id": "953baee6",
   "metadata": {},
   "outputs": [
    {
     "data": {
      "text/html": [
       "<div>\n",
       "<style scoped>\n",
       "    .dataframe tbody tr th:only-of-type {\n",
       "        vertical-align: middle;\n",
       "    }\n",
       "\n",
       "    .dataframe tbody tr th {\n",
       "        vertical-align: top;\n",
       "    }\n",
       "\n",
       "    .dataframe thead th {\n",
       "        text-align: right;\n",
       "    }\n",
       "</style>\n",
       "<table border=\"1\" class=\"dataframe\">\n",
       "  <thead>\n",
       "    <tr style=\"text-align: right;\">\n",
       "      <th></th>\n",
       "      <th>clausula</th>\n",
       "      <th>line</th>\n",
       "    </tr>\n",
       "  </thead>\n",
       "  <tbody>\n",
       "    <tr>\n",
       "      <th>0</th>\n",
       "      <td>Я5ж</td>\n",
       "      <td>За о̀пустѐвший сто̀л я вно̀вь садѝлся.</td>\n",
       "    </tr>\n",
       "    <tr>\n",
       "      <th>1</th>\n",
       "      <td>Я5м</td>\n",
       "      <td>Тоску̀я, ду̀мал, ду̀мал о̀б одно̀м.</td>\n",
       "    </tr>\n",
       "    <tr>\n",
       "      <th>2</th>\n",
       "      <td>Я5ж</td>\n",
       "      <td>В твоѐ окно̀ пото̀к черво̀нцев лѝлся,</td>\n",
       "    </tr>\n",
       "    <tr>\n",
       "      <th>3</th>\n",
       "      <td>Я5м</td>\n",
       "      <td>ложѝлся на̀ пол зо̀лоты̀м пятно̀м...</td>\n",
       "    </tr>\n",
       "    <tr>\n",
       "      <th>4</th>\n",
       "      <td>Я5ж</td>\n",
       "      <td>Каза̀лось мнѐ, что ты̀ придѐшь из са̀да</td>\n",
       "    </tr>\n",
       "    <tr>\n",
       "      <th>...</th>\n",
       "      <td>...</td>\n",
       "      <td>...</td>\n",
       "    </tr>\n",
       "    <tr>\n",
       "      <th>2386704</th>\n",
       "      <td>Д3м</td>\n",
       "      <td>Нѐ услажда̀ют очѐй;</td>\n",
       "    </tr>\n",
       "    <tr>\n",
       "      <th>2386705</th>\n",
       "      <td>Д4д</td>\n",
       "      <td>Ѝх нищета̀, их терпѐнье безмѐрное</td>\n",
       "    </tr>\n",
       "    <tr>\n",
       "      <th>2386706</th>\n",
       "      <td>Д3м</td>\n",
       "      <td>То̀лько доса̀ду родѝт...</td>\n",
       "    </tr>\n",
       "    <tr>\n",
       "      <th>2386707</th>\n",
       "      <td>Д4д</td>\n",
       "      <td>Что̀ же ты лю̀бишь, дитя̀ маловѐрное,</td>\n",
       "    </tr>\n",
       "    <tr>\n",
       "      <th>2386708</th>\n",
       "      <td>Д3м</td>\n",
       "      <td>Гдѐ же твой ѝдол стоѝт?..</td>\n",
       "    </tr>\n",
       "  </tbody>\n",
       "</table>\n",
       "<p>2386709 rows × 2 columns</p>\n",
       "</div>"
      ],
      "text/plain": [
       "        clausula                                       line\n",
       "0            Я5ж   За о̀пустѐвший сто̀л я вно̀вь садѝлся.\n",
       "1            Я5м        Тоску̀я, ду̀мал, ду̀мал о̀б одно̀м.\n",
       "2            Я5ж    В твоѐ окно̀ пото̀к черво̀нцев лѝлся,\n",
       "3            Я5м      ложѝлся на̀ пол зо̀лоты̀м пятно̀м...\n",
       "4            Я5ж  Каза̀лось мнѐ, что ты̀ придѐшь из са̀да\n",
       "...          ...                                        ...\n",
       "2386704      Д3м                      Нѐ услажда̀ют очѐй;\n",
       "2386705      Д4д       Ѝх нищета̀, их терпѐнье безмѐрное\n",
       "2386706      Д3м                  То̀лько доса̀ду родѝт...\n",
       "2386707      Д4д     Что̀ же ты лю̀бишь, дитя̀ маловѐрное,\n",
       "2386708      Д3м               Гдѐ же твой ѝдол стоѝт?..\n",
       "\n",
       "[2386709 rows x 2 columns]"
      ]
     },
     "execution_count": 4,
     "metadata": {},
     "output_type": "execute_result"
    }
   ],
   "source": [
    "verse_data"
   ]
  },
  {
   "cell_type": "code",
   "execution_count": 5,
   "id": "8337e785",
   "metadata": {},
   "outputs": [],
   "source": [
    "vowels = list('аяоёуюыиэеАЯОЁУЮЫИЭЕ')\n",
    "\n",
    "def has_vowels(word):\n",
    "    global vowels\n",
    "    for letter in word:\n",
    "        if letter in vowels:\n",
    "            return True\n",
    "    return False"
   ]
  },
  {
   "cell_type": "code",
   "execution_count": 6,
   "id": "1a70cc0a",
   "metadata": {},
   "outputs": [],
   "source": [
    "def count_vowels(word):\n",
    "    s = 0\n",
    "    global vowels\n",
    "    for letter in word:\n",
    "        if letter in vowels:\n",
    "            s += 1\n",
    "    return s"
   ]
  },
  {
   "cell_type": "code",
   "execution_count": 7,
   "id": "4898582d",
   "metadata": {},
   "outputs": [
    {
     "name": "stdout",
     "output_type": "stream",
     "text": [
      "̀\n"
     ]
    }
   ],
   "source": [
    "s = 'о̀'\n",
    "ict = s[1]\n",
    "print(ict)"
   ]
  },
  {
   "cell_type": "code",
   "execution_count": null,
   "id": "487f3afb",
   "metadata": {
    "scrolled": true
   },
   "outputs": [],
   "source": [
    "words = []\n",
    "for index, row in verse_data.iterrows():\n",
    "    #print(row['line'])\n",
    "    line = row['line'].split()\n",
    "    for word in line:\n",
    "        if ict not in word and count_vowels(word) == 1:\n",
    "            words.append(word)"
   ]
  },
  {
   "cell_type": "code",
   "execution_count": 12,
   "id": "e7b55ac8",
   "metadata": {},
   "outputs": [
    {
     "data": {
      "text/plain": [
       "['За', 'я', 'пол', 'что', 'из', 'мне', 'о', 'И', 'мне', 'О,']"
      ]
     },
     "execution_count": 12,
     "metadata": {},
     "output_type": "execute_result"
    }
   ],
   "source": [
    "words[:10]"
   ]
  }
 ],
 "metadata": {
  "kernelspec": {
   "display_name": "Python 3 (ipykernel)",
   "language": "python",
   "name": "python3"
  },
  "language_info": {
   "codemirror_mode": {
    "name": "ipython",
    "version": 3
   },
   "file_extension": ".py",
   "mimetype": "text/x-python",
   "name": "python",
   "nbconvert_exporter": "python",
   "pygments_lexer": "ipython3",
   "version": "3.11.2"
  }
 },
 "nbformat": 4,
 "nbformat_minor": 5
}
